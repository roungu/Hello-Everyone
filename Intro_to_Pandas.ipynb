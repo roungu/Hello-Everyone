{
  "nbformat": 4,
  "nbformat_minor": 0,
  "metadata": {
    "colab": {
      "name": "Intro_to_Pandas.ipynb",
      "provenance": [],
      "collapsed_sections": [],
      "toc_visible": true,
      "include_colab_link": true
    },
    "kernelspec": {
      "name": "python3",
      "display_name": "Python 3"
    }
  },
  "cells": [
    {
      "cell_type": "markdown",
      "metadata": {
        "id": "view-in-github",
        "colab_type": "text"
      },
      "source": [
        "<a href=\"https://colab.research.google.com/github/roungu/Hello-Everyone/blob/master/Intro_to_Pandas.ipynb\" target=\"_parent\"><img src=\"https://colab.research.google.com/assets/colab-badge.svg\" alt=\"Open In Colab\"/></a>"
      ]
    },
    {
      "cell_type": "code",
      "metadata": {
        "id": "W1nIHBcFyu7O",
        "colab_type": "code",
        "colab": {}
      },
      "source": [
        "# Import the numpy and pandas libraries\n",
        "import numpy as np\n",
        "import pandas as pd"
      ],
      "execution_count": 0,
      "outputs": []
    },
    {
      "cell_type": "markdown",
      "metadata": {
        "id": "gfuWYh9ua3bb",
        "colab_type": "text"
      },
      "source": [
        "## DataFrame\n",
        "A [DataFrame](https://pandas.pydata.org/pandas-docs/stable/dsintro.html#dataframe) is a 2-dimensional labeled data structure with columns of potentially different types. You can think of it like a spreadsheet or SQL table, or a dict of Series objects. It is generally the most commonly used pandas object. Like Series, DataFrame accepts many different kinds of input:\n",
        "\n",
        "Dict of 1D ndarrays, lists, dicts, or Series\n",
        "2-D numpy.ndarray\n",
        "Structured or record ndarray\n",
        "A Series\n",
        "Another DataFrame"
      ]
    },
    {
      "cell_type": "code",
      "metadata": {
        "id": "ghLrsAVSd1Bi",
        "colab_type": "code",
        "colab": {}
      },
      "source": [
        ""
      ],
      "execution_count": 0,
      "outputs": []
    },
    {
      "cell_type": "code",
      "metadata": {
        "id": "1-LRL1u8ecGr",
        "colab_type": "code",
        "outputId": "a614b257-a35e-429d-93a7-0d3608685556",
        "colab": {
          "base_uri": "https://localhost:8080/",
          "height": 421
        }
      },
      "source": [
        "# Now, we will load our data into our pandas dataframe.\n",
        "smallDf = pd.DataFrame(\n",
        "        [['Jan',58,42,74,22,2.95],\n",
        "         ['Feb',61,45,78,26,3.02],\n",
        "         ['Mar',65,48,84,25,2.34],\n",
        "         ['Apr',67,50,92,28,1.02],\n",
        "         ['May',71,53,98,35,0.48],\n",
        "         ['Jun',75,56,107,41,0.11],\n",
        "         ['Jul',77,58,105,44,0.0],\n",
        "         ['Aug',77,59,102,42,0.03],\n",
        "         ['Sep',77,57,103,40,0.17],\n",
        "         ['Oct',73,54,96,34,0.81],\n",
        "         ['Nov',64,48,84,30,1.7],\n",
        "         ['Dec',58,42,73,21,2.56]],\n",
        "         index = [0,1,2,3,4,5,6,7,8,9,10,11],\n",
        "         columns = ['month','avg_high','avg_low','record_high','record_low','avg_precipitation'])\n",
        "\n",
        "# Once loaded in, we will print our dataframe.\n",
        "smallDf"
      ],
      "execution_count": 11,
      "outputs": [
        {
          "output_type": "execute_result",
          "data": {
            "text/html": [
              "<div>\n",
              "<style scoped>\n",
              "    .dataframe tbody tr th:only-of-type {\n",
              "        vertical-align: middle;\n",
              "    }\n",
              "\n",
              "    .dataframe tbody tr th {\n",
              "        vertical-align: top;\n",
              "    }\n",
              "\n",
              "    .dataframe thead th {\n",
              "        text-align: right;\n",
              "    }\n",
              "</style>\n",
              "<table border=\"1\" class=\"dataframe\">\n",
              "  <thead>\n",
              "    <tr style=\"text-align: right;\">\n",
              "      <th></th>\n",
              "      <th>month</th>\n",
              "      <th>avg_high</th>\n",
              "      <th>avg_low</th>\n",
              "      <th>record_high</th>\n",
              "      <th>record_low</th>\n",
              "      <th>avg_precipitation</th>\n",
              "    </tr>\n",
              "  </thead>\n",
              "  <tbody>\n",
              "    <tr>\n",
              "      <th>0</th>\n",
              "      <td>Jan</td>\n",
              "      <td>58</td>\n",
              "      <td>42</td>\n",
              "      <td>74</td>\n",
              "      <td>22</td>\n",
              "      <td>2.95</td>\n",
              "    </tr>\n",
              "    <tr>\n",
              "      <th>1</th>\n",
              "      <td>Feb</td>\n",
              "      <td>61</td>\n",
              "      <td>45</td>\n",
              "      <td>78</td>\n",
              "      <td>26</td>\n",
              "      <td>3.02</td>\n",
              "    </tr>\n",
              "    <tr>\n",
              "      <th>2</th>\n",
              "      <td>Mar</td>\n",
              "      <td>65</td>\n",
              "      <td>48</td>\n",
              "      <td>84</td>\n",
              "      <td>25</td>\n",
              "      <td>2.34</td>\n",
              "    </tr>\n",
              "    <tr>\n",
              "      <th>3</th>\n",
              "      <td>Apr</td>\n",
              "      <td>67</td>\n",
              "      <td>50</td>\n",
              "      <td>92</td>\n",
              "      <td>28</td>\n",
              "      <td>1.02</td>\n",
              "    </tr>\n",
              "    <tr>\n",
              "      <th>4</th>\n",
              "      <td>May</td>\n",
              "      <td>71</td>\n",
              "      <td>53</td>\n",
              "      <td>98</td>\n",
              "      <td>35</td>\n",
              "      <td>0.48</td>\n",
              "    </tr>\n",
              "    <tr>\n",
              "      <th>5</th>\n",
              "      <td>Jun</td>\n",
              "      <td>75</td>\n",
              "      <td>56</td>\n",
              "      <td>107</td>\n",
              "      <td>41</td>\n",
              "      <td>0.11</td>\n",
              "    </tr>\n",
              "    <tr>\n",
              "      <th>6</th>\n",
              "      <td>Jul</td>\n",
              "      <td>77</td>\n",
              "      <td>58</td>\n",
              "      <td>105</td>\n",
              "      <td>44</td>\n",
              "      <td>0.00</td>\n",
              "    </tr>\n",
              "    <tr>\n",
              "      <th>7</th>\n",
              "      <td>Aug</td>\n",
              "      <td>77</td>\n",
              "      <td>59</td>\n",
              "      <td>102</td>\n",
              "      <td>42</td>\n",
              "      <td>0.03</td>\n",
              "    </tr>\n",
              "    <tr>\n",
              "      <th>8</th>\n",
              "      <td>Sep</td>\n",
              "      <td>77</td>\n",
              "      <td>57</td>\n",
              "      <td>103</td>\n",
              "      <td>40</td>\n",
              "      <td>0.17</td>\n",
              "    </tr>\n",
              "    <tr>\n",
              "      <th>9</th>\n",
              "      <td>Oct</td>\n",
              "      <td>73</td>\n",
              "      <td>54</td>\n",
              "      <td>96</td>\n",
              "      <td>34</td>\n",
              "      <td>0.81</td>\n",
              "    </tr>\n",
              "    <tr>\n",
              "      <th>10</th>\n",
              "      <td>Nov</td>\n",
              "      <td>64</td>\n",
              "      <td>48</td>\n",
              "      <td>84</td>\n",
              "      <td>30</td>\n",
              "      <td>1.70</td>\n",
              "    </tr>\n",
              "    <tr>\n",
              "      <th>11</th>\n",
              "      <td>Dec</td>\n",
              "      <td>58</td>\n",
              "      <td>42</td>\n",
              "      <td>73</td>\n",
              "      <td>21</td>\n",
              "      <td>2.56</td>\n",
              "    </tr>\n",
              "  </tbody>\n",
              "</table>\n",
              "</div>"
            ],
            "text/plain": [
              "   month  avg_high  avg_low  record_high  record_low  avg_precipitation\n",
              "0    Jan        58       42           74          22               2.95\n",
              "1    Feb        61       45           78          26               3.02\n",
              "2    Mar        65       48           84          25               2.34\n",
              "3    Apr        67       50           92          28               1.02\n",
              "4    May        71       53           98          35               0.48\n",
              "5    Jun        75       56          107          41               0.11\n",
              "6    Jul        77       58          105          44               0.00\n",
              "7    Aug        77       59          102          42               0.03\n",
              "8    Sep        77       57          103          40               0.17\n",
              "9    Oct        73       54           96          34               0.81\n",
              "10   Nov        64       48           84          30               1.70\n",
              "11   Dec        58       42           73          21               2.56"
            ]
          },
          "metadata": {
            "tags": []
          },
          "execution_count": 11
        }
      ]
    },
    {
      "cell_type": "code",
      "metadata": {
        "id": "Jlw9g_TxyaIS",
        "colab_type": "code",
        "outputId": "3f070417-5326-4765-ca3f-998eccdb0146",
        "colab": {
          "base_uri": "https://localhost:8080/",
          "height": 419
        }
      },
      "source": [
        "# This time, let's read the data from a file we've uploaded\n",
        "\n",
        "# Th.options.display.max_columns = 100is allows us to see many columns\n",
        "\n",
        "# Read the CSV into a dataframe\n",
        "bigDf = pd.read_csv('sample_data/california_housing_train.csv')\n",
        "\n",
        "# Print out the datafram\n",
        "bigDf"
      ],
      "execution_count": 12,
      "outputs": [
        {
          "output_type": "execute_result",
          "data": {
            "text/html": [
              "<div>\n",
              "<style scoped>\n",
              "    .dataframe tbody tr th:only-of-type {\n",
              "        vertical-align: middle;\n",
              "    }\n",
              "\n",
              "    .dataframe tbody tr th {\n",
              "        vertical-align: top;\n",
              "    }\n",
              "\n",
              "    .dataframe thead th {\n",
              "        text-align: right;\n",
              "    }\n",
              "</style>\n",
              "<table border=\"1\" class=\"dataframe\">\n",
              "  <thead>\n",
              "    <tr style=\"text-align: right;\">\n",
              "      <th></th>\n",
              "      <th>longitude</th>\n",
              "      <th>latitude</th>\n",
              "      <th>housing_median_age</th>\n",
              "      <th>total_rooms</th>\n",
              "      <th>total_bedrooms</th>\n",
              "      <th>population</th>\n",
              "      <th>households</th>\n",
              "      <th>median_income</th>\n",
              "      <th>median_house_value</th>\n",
              "    </tr>\n",
              "  </thead>\n",
              "  <tbody>\n",
              "    <tr>\n",
              "      <th>0</th>\n",
              "      <td>-114.31</td>\n",
              "      <td>34.19</td>\n",
              "      <td>15.0</td>\n",
              "      <td>5612.0</td>\n",
              "      <td>1283.0</td>\n",
              "      <td>1015.0</td>\n",
              "      <td>472.0</td>\n",
              "      <td>1.4936</td>\n",
              "      <td>66900.0</td>\n",
              "    </tr>\n",
              "    <tr>\n",
              "      <th>1</th>\n",
              "      <td>-114.47</td>\n",
              "      <td>34.40</td>\n",
              "      <td>19.0</td>\n",
              "      <td>7650.0</td>\n",
              "      <td>1901.0</td>\n",
              "      <td>1129.0</td>\n",
              "      <td>463.0</td>\n",
              "      <td>1.8200</td>\n",
              "      <td>80100.0</td>\n",
              "    </tr>\n",
              "    <tr>\n",
              "      <th>2</th>\n",
              "      <td>-114.56</td>\n",
              "      <td>33.69</td>\n",
              "      <td>17.0</td>\n",
              "      <td>720.0</td>\n",
              "      <td>174.0</td>\n",
              "      <td>333.0</td>\n",
              "      <td>117.0</td>\n",
              "      <td>1.6509</td>\n",
              "      <td>85700.0</td>\n",
              "    </tr>\n",
              "    <tr>\n",
              "      <th>3</th>\n",
              "      <td>-114.57</td>\n",
              "      <td>33.64</td>\n",
              "      <td>14.0</td>\n",
              "      <td>1501.0</td>\n",
              "      <td>337.0</td>\n",
              "      <td>515.0</td>\n",
              "      <td>226.0</td>\n",
              "      <td>3.1917</td>\n",
              "      <td>73400.0</td>\n",
              "    </tr>\n",
              "    <tr>\n",
              "      <th>4</th>\n",
              "      <td>-114.57</td>\n",
              "      <td>33.57</td>\n",
              "      <td>20.0</td>\n",
              "      <td>1454.0</td>\n",
              "      <td>326.0</td>\n",
              "      <td>624.0</td>\n",
              "      <td>262.0</td>\n",
              "      <td>1.9250</td>\n",
              "      <td>65500.0</td>\n",
              "    </tr>\n",
              "    <tr>\n",
              "      <th>...</th>\n",
              "      <td>...</td>\n",
              "      <td>...</td>\n",
              "      <td>...</td>\n",
              "      <td>...</td>\n",
              "      <td>...</td>\n",
              "      <td>...</td>\n",
              "      <td>...</td>\n",
              "      <td>...</td>\n",
              "      <td>...</td>\n",
              "    </tr>\n",
              "    <tr>\n",
              "      <th>16995</th>\n",
              "      <td>-124.26</td>\n",
              "      <td>40.58</td>\n",
              "      <td>52.0</td>\n",
              "      <td>2217.0</td>\n",
              "      <td>394.0</td>\n",
              "      <td>907.0</td>\n",
              "      <td>369.0</td>\n",
              "      <td>2.3571</td>\n",
              "      <td>111400.0</td>\n",
              "    </tr>\n",
              "    <tr>\n",
              "      <th>16996</th>\n",
              "      <td>-124.27</td>\n",
              "      <td>40.69</td>\n",
              "      <td>36.0</td>\n",
              "      <td>2349.0</td>\n",
              "      <td>528.0</td>\n",
              "      <td>1194.0</td>\n",
              "      <td>465.0</td>\n",
              "      <td>2.5179</td>\n",
              "      <td>79000.0</td>\n",
              "    </tr>\n",
              "    <tr>\n",
              "      <th>16997</th>\n",
              "      <td>-124.30</td>\n",
              "      <td>41.84</td>\n",
              "      <td>17.0</td>\n",
              "      <td>2677.0</td>\n",
              "      <td>531.0</td>\n",
              "      <td>1244.0</td>\n",
              "      <td>456.0</td>\n",
              "      <td>3.0313</td>\n",
              "      <td>103600.0</td>\n",
              "    </tr>\n",
              "    <tr>\n",
              "      <th>16998</th>\n",
              "      <td>-124.30</td>\n",
              "      <td>41.80</td>\n",
              "      <td>19.0</td>\n",
              "      <td>2672.0</td>\n",
              "      <td>552.0</td>\n",
              "      <td>1298.0</td>\n",
              "      <td>478.0</td>\n",
              "      <td>1.9797</td>\n",
              "      <td>85800.0</td>\n",
              "    </tr>\n",
              "    <tr>\n",
              "      <th>16999</th>\n",
              "      <td>-124.35</td>\n",
              "      <td>40.54</td>\n",
              "      <td>52.0</td>\n",
              "      <td>1820.0</td>\n",
              "      <td>300.0</td>\n",
              "      <td>806.0</td>\n",
              "      <td>270.0</td>\n",
              "      <td>3.0147</td>\n",
              "      <td>94600.0</td>\n",
              "    </tr>\n",
              "  </tbody>\n",
              "</table>\n",
              "<p>17000 rows × 9 columns</p>\n",
              "</div>"
            ],
            "text/plain": [
              "       longitude  latitude  ...  median_income  median_house_value\n",
              "0        -114.31     34.19  ...         1.4936             66900.0\n",
              "1        -114.47     34.40  ...         1.8200             80100.0\n",
              "2        -114.56     33.69  ...         1.6509             85700.0\n",
              "3        -114.57     33.64  ...         3.1917             73400.0\n",
              "4        -114.57     33.57  ...         1.9250             65500.0\n",
              "...          ...       ...  ...            ...                 ...\n",
              "16995    -124.26     40.58  ...         2.3571            111400.0\n",
              "16996    -124.27     40.69  ...         2.5179             79000.0\n",
              "16997    -124.30     41.84  ...         3.0313            103600.0\n",
              "16998    -124.30     41.80  ...         1.9797             85800.0\n",
              "16999    -124.35     40.54  ...         3.0147             94600.0\n",
              "\n",
              "[17000 rows x 9 columns]"
            ]
          },
          "metadata": {
            "tags": []
          },
          "execution_count": 12
        }
      ]
    },
    {
      "cell_type": "code",
      "metadata": {
        "id": "wmfhEo2ovQQk",
        "colab_type": "code",
        "colab": {}
      },
      "source": [
        ""
      ],
      "execution_count": 0,
      "outputs": []
    },
    {
      "cell_type": "code",
      "metadata": {
        "id": "YemYl7vMvSu7",
        "colab_type": "code",
        "colab": {}
      },
      "source": [
        ""
      ],
      "execution_count": 0,
      "outputs": []
    },
    {
      "cell_type": "code",
      "metadata": {
        "id": "SEGMJxk602f5",
        "colab_type": "code",
        "outputId": "3e29ce89-9a56-44b2-8e14-021811f73bc4",
        "colab": {
          "base_uri": "https://localhost:8080/",
          "height": 204
        }
      },
      "source": [
        "# Going back to our small dataset\n",
        "# Print just the head\n",
        "smallDf.head()"
      ],
      "execution_count": 13,
      "outputs": [
        {
          "output_type": "execute_result",
          "data": {
            "text/html": [
              "<div>\n",
              "<style scoped>\n",
              "    .dataframe tbody tr th:only-of-type {\n",
              "        vertical-align: middle;\n",
              "    }\n",
              "\n",
              "    .dataframe tbody tr th {\n",
              "        vertical-align: top;\n",
              "    }\n",
              "\n",
              "    .dataframe thead th {\n",
              "        text-align: right;\n",
              "    }\n",
              "</style>\n",
              "<table border=\"1\" class=\"dataframe\">\n",
              "  <thead>\n",
              "    <tr style=\"text-align: right;\">\n",
              "      <th></th>\n",
              "      <th>month</th>\n",
              "      <th>avg_high</th>\n",
              "      <th>avg_low</th>\n",
              "      <th>record_high</th>\n",
              "      <th>record_low</th>\n",
              "      <th>avg_precipitation</th>\n",
              "    </tr>\n",
              "  </thead>\n",
              "  <tbody>\n",
              "    <tr>\n",
              "      <th>0</th>\n",
              "      <td>Jan</td>\n",
              "      <td>58</td>\n",
              "      <td>42</td>\n",
              "      <td>74</td>\n",
              "      <td>22</td>\n",
              "      <td>2.95</td>\n",
              "    </tr>\n",
              "    <tr>\n",
              "      <th>1</th>\n",
              "      <td>Feb</td>\n",
              "      <td>61</td>\n",
              "      <td>45</td>\n",
              "      <td>78</td>\n",
              "      <td>26</td>\n",
              "      <td>3.02</td>\n",
              "    </tr>\n",
              "    <tr>\n",
              "      <th>2</th>\n",
              "      <td>Mar</td>\n",
              "      <td>65</td>\n",
              "      <td>48</td>\n",
              "      <td>84</td>\n",
              "      <td>25</td>\n",
              "      <td>2.34</td>\n",
              "    </tr>\n",
              "    <tr>\n",
              "      <th>3</th>\n",
              "      <td>Apr</td>\n",
              "      <td>67</td>\n",
              "      <td>50</td>\n",
              "      <td>92</td>\n",
              "      <td>28</td>\n",
              "      <td>1.02</td>\n",
              "    </tr>\n",
              "    <tr>\n",
              "      <th>4</th>\n",
              "      <td>May</td>\n",
              "      <td>71</td>\n",
              "      <td>53</td>\n",
              "      <td>98</td>\n",
              "      <td>35</td>\n",
              "      <td>0.48</td>\n",
              "    </tr>\n",
              "  </tbody>\n",
              "</table>\n",
              "</div>"
            ],
            "text/plain": [
              "  month  avg_high  avg_low  record_high  record_low  avg_precipitation\n",
              "0   Jan        58       42           74          22               2.95\n",
              "1   Feb        61       45           78          26               3.02\n",
              "2   Mar        65       48           84          25               2.34\n",
              "3   Apr        67       50           92          28               1.02\n",
              "4   May        71       53           98          35               0.48"
            ]
          },
          "metadata": {
            "tags": []
          },
          "execution_count": 13
        }
      ]
    },
    {
      "cell_type": "code",
      "metadata": {
        "id": "BZ8Gl3DG1v-_",
        "colab_type": "code",
        "outputId": "8b2930ea-65f9-415d-c19c-1f45c043a4bf",
        "colab": {
          "base_uri": "https://localhost:8080/",
          "height": 142
        }
      },
      "source": [
        "# Print the last 3 lines, using tail\n",
        "smallDf.tail(3)"
      ],
      "execution_count": 14,
      "outputs": [
        {
          "output_type": "execute_result",
          "data": {
            "text/html": [
              "<div>\n",
              "<style scoped>\n",
              "    .dataframe tbody tr th:only-of-type {\n",
              "        vertical-align: middle;\n",
              "    }\n",
              "\n",
              "    .dataframe tbody tr th {\n",
              "        vertical-align: top;\n",
              "    }\n",
              "\n",
              "    .dataframe thead th {\n",
              "        text-align: right;\n",
              "    }\n",
              "</style>\n",
              "<table border=\"1\" class=\"dataframe\">\n",
              "  <thead>\n",
              "    <tr style=\"text-align: right;\">\n",
              "      <th></th>\n",
              "      <th>month</th>\n",
              "      <th>avg_high</th>\n",
              "      <th>avg_low</th>\n",
              "      <th>record_high</th>\n",
              "      <th>record_low</th>\n",
              "      <th>avg_precipitation</th>\n",
              "    </tr>\n",
              "  </thead>\n",
              "  <tbody>\n",
              "    <tr>\n",
              "      <th>9</th>\n",
              "      <td>Oct</td>\n",
              "      <td>73</td>\n",
              "      <td>54</td>\n",
              "      <td>96</td>\n",
              "      <td>34</td>\n",
              "      <td>0.81</td>\n",
              "    </tr>\n",
              "    <tr>\n",
              "      <th>10</th>\n",
              "      <td>Nov</td>\n",
              "      <td>64</td>\n",
              "      <td>48</td>\n",
              "      <td>84</td>\n",
              "      <td>30</td>\n",
              "      <td>1.70</td>\n",
              "    </tr>\n",
              "    <tr>\n",
              "      <th>11</th>\n",
              "      <td>Dec</td>\n",
              "      <td>58</td>\n",
              "      <td>42</td>\n",
              "      <td>73</td>\n",
              "      <td>21</td>\n",
              "      <td>2.56</td>\n",
              "    </tr>\n",
              "  </tbody>\n",
              "</table>\n",
              "</div>"
            ],
            "text/plain": [
              "   month  avg_high  avg_low  record_high  record_low  avg_precipitation\n",
              "9    Oct        73       54           96          34               0.81\n",
              "10   Nov        64       48           84          30               1.70\n",
              "11   Dec        58       42           73          21               2.56"
            ]
          },
          "metadata": {
            "tags": []
          },
          "execution_count": 14
        }
      ]
    },
    {
      "cell_type": "code",
      "metadata": {
        "id": "DGqP69hS11bG",
        "colab_type": "code",
        "outputId": "9d781969-ffe3-4160-a4fd-1ea490ca0709",
        "colab": {
          "base_uri": "https://localhost:8080/",
          "height": 136
        }
      },
      "source": [
        "# Print out the data types\n",
        "smallDf.dtypes"
      ],
      "execution_count": 15,
      "outputs": [
        {
          "output_type": "execute_result",
          "data": {
            "text/plain": [
              "month                 object\n",
              "avg_high               int64\n",
              "avg_low                int64\n",
              "record_high            int64\n",
              "record_low             int64\n",
              "avg_precipitation    float64\n",
              "dtype: object"
            ]
          },
          "metadata": {
            "tags": []
          },
          "execution_count": 15
        }
      ]
    },
    {
      "cell_type": "code",
      "metadata": {
        "id": "1QU5_65i1_z5",
        "colab_type": "code",
        "outputId": "86550f98-4916-401c-95f5-ec1b5192412c",
        "colab": {
          "base_uri": "https://localhost:8080/",
          "height": 34
        }
      },
      "source": [
        "# Print out index information\n",
        "smallDf.index"
      ],
      "execution_count": 16,
      "outputs": [
        {
          "output_type": "execute_result",
          "data": {
            "text/plain": [
              "Int64Index([0, 1, 2, 3, 4, 5, 6, 7, 8, 9, 10, 11], dtype='int64')"
            ]
          },
          "metadata": {
            "tags": []
          },
          "execution_count": 16
        }
      ]
    },
    {
      "cell_type": "code",
      "metadata": {
        "id": "gT_0R__z2EZl",
        "colab_type": "code",
        "outputId": "b0f453a5-aefe-4f33-8728-9eb40f66329b",
        "colab": {
          "base_uri": "https://localhost:8080/",
          "height": 68
        }
      },
      "source": [
        "# Print out column information\n",
        "smallDf.columns"
      ],
      "execution_count": 17,
      "outputs": [
        {
          "output_type": "execute_result",
          "data": {
            "text/plain": [
              "Index(['month', 'avg_high', 'avg_low', 'record_high', 'record_low',\n",
              "       'avg_precipitation'],\n",
              "      dtype='object')"
            ]
          },
          "metadata": {
            "tags": []
          },
          "execution_count": 17
        }
      ]
    },
    {
      "cell_type": "code",
      "metadata": {
        "id": "RTetJ5-B2aZl",
        "colab_type": "code",
        "outputId": "d1c79ac8-c973-4c16-e62d-91629bc48a41",
        "colab": {
          "base_uri": "https://localhost:8080/",
          "height": 221
        }
      },
      "source": [
        "# Print out the values\n",
        "smallDf.values"
      ],
      "execution_count": 18,
      "outputs": [
        {
          "output_type": "execute_result",
          "data": {
            "text/plain": [
              "array([['Jan', 58, 42, 74, 22, 2.95],\n",
              "       ['Feb', 61, 45, 78, 26, 3.02],\n",
              "       ['Mar', 65, 48, 84, 25, 2.34],\n",
              "       ['Apr', 67, 50, 92, 28, 1.02],\n",
              "       ['May', 71, 53, 98, 35, 0.48],\n",
              "       ['Jun', 75, 56, 107, 41, 0.11],\n",
              "       ['Jul', 77, 58, 105, 44, 0.0],\n",
              "       ['Aug', 77, 59, 102, 42, 0.03],\n",
              "       ['Sep', 77, 57, 103, 40, 0.17],\n",
              "       ['Oct', 73, 54, 96, 34, 0.81],\n",
              "       ['Nov', 64, 48, 84, 30, 1.7],\n",
              "       ['Dec', 58, 42, 73, 21, 2.56]], dtype=object)"
            ]
          },
          "metadata": {
            "tags": []
          },
          "execution_count": 18
        }
      ]
    },
    {
      "cell_type": "code",
      "metadata": {
        "id": "8oIcEgCt2hFa",
        "colab_type": "code",
        "outputId": "b308ed0c-a775-442c-ea3e-afff1f7f9019",
        "colab": {
          "base_uri": "https://localhost:8080/",
          "height": 297
        }
      },
      "source": [
        "# Describe the data\n",
        "smallDf.describe()"
      ],
      "execution_count": 19,
      "outputs": [
        {
          "output_type": "execute_result",
          "data": {
            "text/html": [
              "<div>\n",
              "<style scoped>\n",
              "    .dataframe tbody tr th:only-of-type {\n",
              "        vertical-align: middle;\n",
              "    }\n",
              "\n",
              "    .dataframe tbody tr th {\n",
              "        vertical-align: top;\n",
              "    }\n",
              "\n",
              "    .dataframe thead th {\n",
              "        text-align: right;\n",
              "    }\n",
              "</style>\n",
              "<table border=\"1\" class=\"dataframe\">\n",
              "  <thead>\n",
              "    <tr style=\"text-align: right;\">\n",
              "      <th></th>\n",
              "      <th>avg_high</th>\n",
              "      <th>avg_low</th>\n",
              "      <th>record_high</th>\n",
              "      <th>record_low</th>\n",
              "      <th>avg_precipitation</th>\n",
              "    </tr>\n",
              "  </thead>\n",
              "  <tbody>\n",
              "    <tr>\n",
              "      <th>count</th>\n",
              "      <td>12.000000</td>\n",
              "      <td>12.000000</td>\n",
              "      <td>12.000000</td>\n",
              "      <td>12.000000</td>\n",
              "      <td>12.000000</td>\n",
              "    </tr>\n",
              "    <tr>\n",
              "      <th>mean</th>\n",
              "      <td>68.583333</td>\n",
              "      <td>51.000000</td>\n",
              "      <td>91.333333</td>\n",
              "      <td>32.333333</td>\n",
              "      <td>1.265833</td>\n",
              "    </tr>\n",
              "    <tr>\n",
              "      <th>std</th>\n",
              "      <td>7.366488</td>\n",
              "      <td>6.060303</td>\n",
              "      <td>12.323911</td>\n",
              "      <td>8.127768</td>\n",
              "      <td>1.186396</td>\n",
              "    </tr>\n",
              "    <tr>\n",
              "      <th>min</th>\n",
              "      <td>58.000000</td>\n",
              "      <td>42.000000</td>\n",
              "      <td>73.000000</td>\n",
              "      <td>21.000000</td>\n",
              "      <td>0.000000</td>\n",
              "    </tr>\n",
              "    <tr>\n",
              "      <th>25%</th>\n",
              "      <td>63.250000</td>\n",
              "      <td>47.250000</td>\n",
              "      <td>82.500000</td>\n",
              "      <td>25.750000</td>\n",
              "      <td>0.155000</td>\n",
              "    </tr>\n",
              "    <tr>\n",
              "      <th>50%</th>\n",
              "      <td>69.000000</td>\n",
              "      <td>51.500000</td>\n",
              "      <td>94.000000</td>\n",
              "      <td>32.000000</td>\n",
              "      <td>0.915000</td>\n",
              "    </tr>\n",
              "    <tr>\n",
              "      <th>75%</th>\n",
              "      <td>75.500000</td>\n",
              "      <td>56.250000</td>\n",
              "      <td>102.250000</td>\n",
              "      <td>40.250000</td>\n",
              "      <td>2.395000</td>\n",
              "    </tr>\n",
              "    <tr>\n",
              "      <th>max</th>\n",
              "      <td>77.000000</td>\n",
              "      <td>59.000000</td>\n",
              "      <td>107.000000</td>\n",
              "      <td>44.000000</td>\n",
              "      <td>3.020000</td>\n",
              "    </tr>\n",
              "  </tbody>\n",
              "</table>\n",
              "</div>"
            ],
            "text/plain": [
              "        avg_high    avg_low  record_high  record_low  avg_precipitation\n",
              "count  12.000000  12.000000    12.000000   12.000000          12.000000\n",
              "mean   68.583333  51.000000    91.333333   32.333333           1.265833\n",
              "std     7.366488   6.060303    12.323911    8.127768           1.186396\n",
              "min    58.000000  42.000000    73.000000   21.000000           0.000000\n",
              "25%    63.250000  47.250000    82.500000   25.750000           0.155000\n",
              "50%    69.000000  51.500000    94.000000   32.000000           0.915000\n",
              "75%    75.500000  56.250000   102.250000   40.250000           2.395000\n",
              "max    77.000000  59.000000   107.000000   44.000000           3.020000"
            ]
          },
          "metadata": {
            "tags": []
          },
          "execution_count": 19
        }
      ]
    },
    {
      "cell_type": "code",
      "metadata": {
        "id": "pX9YHWXl2l5r",
        "colab_type": "code",
        "outputId": "bc0ebb04-a13c-476c-be7a-311a6ef9ea3f",
        "colab": {
          "base_uri": "https://localhost:8080/",
          "height": 421
        }
      },
      "source": [
        "# Sort the data\n",
        "smallDf.sort_values('record_high', ascending=False)"
      ],
      "execution_count": 20,
      "outputs": [
        {
          "output_type": "execute_result",
          "data": {
            "text/html": [
              "<div>\n",
              "<style scoped>\n",
              "    .dataframe tbody tr th:only-of-type {\n",
              "        vertical-align: middle;\n",
              "    }\n",
              "\n",
              "    .dataframe tbody tr th {\n",
              "        vertical-align: top;\n",
              "    }\n",
              "\n",
              "    .dataframe thead th {\n",
              "        text-align: right;\n",
              "    }\n",
              "</style>\n",
              "<table border=\"1\" class=\"dataframe\">\n",
              "  <thead>\n",
              "    <tr style=\"text-align: right;\">\n",
              "      <th></th>\n",
              "      <th>month</th>\n",
              "      <th>avg_high</th>\n",
              "      <th>avg_low</th>\n",
              "      <th>record_high</th>\n",
              "      <th>record_low</th>\n",
              "      <th>avg_precipitation</th>\n",
              "    </tr>\n",
              "  </thead>\n",
              "  <tbody>\n",
              "    <tr>\n",
              "      <th>5</th>\n",
              "      <td>Jun</td>\n",
              "      <td>75</td>\n",
              "      <td>56</td>\n",
              "      <td>107</td>\n",
              "      <td>41</td>\n",
              "      <td>0.11</td>\n",
              "    </tr>\n",
              "    <tr>\n",
              "      <th>6</th>\n",
              "      <td>Jul</td>\n",
              "      <td>77</td>\n",
              "      <td>58</td>\n",
              "      <td>105</td>\n",
              "      <td>44</td>\n",
              "      <td>0.00</td>\n",
              "    </tr>\n",
              "    <tr>\n",
              "      <th>8</th>\n",
              "      <td>Sep</td>\n",
              "      <td>77</td>\n",
              "      <td>57</td>\n",
              "      <td>103</td>\n",
              "      <td>40</td>\n",
              "      <td>0.17</td>\n",
              "    </tr>\n",
              "    <tr>\n",
              "      <th>7</th>\n",
              "      <td>Aug</td>\n",
              "      <td>77</td>\n",
              "      <td>59</td>\n",
              "      <td>102</td>\n",
              "      <td>42</td>\n",
              "      <td>0.03</td>\n",
              "    </tr>\n",
              "    <tr>\n",
              "      <th>4</th>\n",
              "      <td>May</td>\n",
              "      <td>71</td>\n",
              "      <td>53</td>\n",
              "      <td>98</td>\n",
              "      <td>35</td>\n",
              "      <td>0.48</td>\n",
              "    </tr>\n",
              "    <tr>\n",
              "      <th>9</th>\n",
              "      <td>Oct</td>\n",
              "      <td>73</td>\n",
              "      <td>54</td>\n",
              "      <td>96</td>\n",
              "      <td>34</td>\n",
              "      <td>0.81</td>\n",
              "    </tr>\n",
              "    <tr>\n",
              "      <th>3</th>\n",
              "      <td>Apr</td>\n",
              "      <td>67</td>\n",
              "      <td>50</td>\n",
              "      <td>92</td>\n",
              "      <td>28</td>\n",
              "      <td>1.02</td>\n",
              "    </tr>\n",
              "    <tr>\n",
              "      <th>2</th>\n",
              "      <td>Mar</td>\n",
              "      <td>65</td>\n",
              "      <td>48</td>\n",
              "      <td>84</td>\n",
              "      <td>25</td>\n",
              "      <td>2.34</td>\n",
              "    </tr>\n",
              "    <tr>\n",
              "      <th>10</th>\n",
              "      <td>Nov</td>\n",
              "      <td>64</td>\n",
              "      <td>48</td>\n",
              "      <td>84</td>\n",
              "      <td>30</td>\n",
              "      <td>1.70</td>\n",
              "    </tr>\n",
              "    <tr>\n",
              "      <th>1</th>\n",
              "      <td>Feb</td>\n",
              "      <td>61</td>\n",
              "      <td>45</td>\n",
              "      <td>78</td>\n",
              "      <td>26</td>\n",
              "      <td>3.02</td>\n",
              "    </tr>\n",
              "    <tr>\n",
              "      <th>0</th>\n",
              "      <td>Jan</td>\n",
              "      <td>58</td>\n",
              "      <td>42</td>\n",
              "      <td>74</td>\n",
              "      <td>22</td>\n",
              "      <td>2.95</td>\n",
              "    </tr>\n",
              "    <tr>\n",
              "      <th>11</th>\n",
              "      <td>Dec</td>\n",
              "      <td>58</td>\n",
              "      <td>42</td>\n",
              "      <td>73</td>\n",
              "      <td>21</td>\n",
              "      <td>2.56</td>\n",
              "    </tr>\n",
              "  </tbody>\n",
              "</table>\n",
              "</div>"
            ],
            "text/plain": [
              "   month  avg_high  avg_low  record_high  record_low  avg_precipitation\n",
              "5    Jun        75       56          107          41               0.11\n",
              "6    Jul        77       58          105          44               0.00\n",
              "8    Sep        77       57          103          40               0.17\n",
              "7    Aug        77       59          102          42               0.03\n",
              "4    May        71       53           98          35               0.48\n",
              "9    Oct        73       54           96          34               0.81\n",
              "3    Apr        67       50           92          28               1.02\n",
              "2    Mar        65       48           84          25               2.34\n",
              "10   Nov        64       48           84          30               1.70\n",
              "1    Feb        61       45           78          26               3.02\n",
              "0    Jan        58       42           74          22               2.95\n",
              "11   Dec        58       42           73          21               2.56"
            ]
          },
          "metadata": {
            "tags": []
          },
          "execution_count": 20
        }
      ]
    },
    {
      "cell_type": "code",
      "metadata": {
        "id": "ZrJ6daRI2yWg",
        "colab_type": "code",
        "outputId": "e1062bae-f7d5-4253-cf28-b8893c62af32",
        "colab": {
          "base_uri": "https://localhost:8080/",
          "height": 238
        }
      },
      "source": [
        "# Print a slice (one column only)\n",
        "smallDf.avg_low"
      ],
      "execution_count": 21,
      "outputs": [
        {
          "output_type": "execute_result",
          "data": {
            "text/plain": [
              "0     42\n",
              "1     45\n",
              "2     48\n",
              "3     50\n",
              "4     53\n",
              "5     56\n",
              "6     58\n",
              "7     59\n",
              "8     57\n",
              "9     54\n",
              "10    48\n",
              "11    42\n",
              "Name: avg_low, dtype: int64"
            ]
          },
          "metadata": {
            "tags": []
          },
          "execution_count": 21
        }
      ]
    },
    {
      "cell_type": "code",
      "metadata": {
        "id": "QFw3nk2425SE",
        "colab_type": "code",
        "outputId": "d14a20da-419e-4dcc-d17c-5ed95178e3e4",
        "colab": {
          "base_uri": "https://localhost:8080/",
          "height": 238
        }
      },
      "source": [
        "# TIMTOWTDI\n",
        "# Print a slice (one column only) via different method\n",
        "smallDf['avg_low']"
      ],
      "execution_count": 22,
      "outputs": [
        {
          "output_type": "execute_result",
          "data": {
            "text/plain": [
              "0     42\n",
              "1     45\n",
              "2     48\n",
              "3     50\n",
              "4     53\n",
              "5     56\n",
              "6     58\n",
              "7     59\n",
              "8     57\n",
              "9     54\n",
              "10    48\n",
              "11    42\n",
              "Name: avg_low, dtype: int64"
            ]
          },
          "metadata": {
            "tags": []
          },
          "execution_count": 22
        }
      ]
    },
    {
      "cell_type": "code",
      "metadata": {
        "id": "ovAS3Dbb3FVR",
        "colab_type": "code",
        "outputId": "99d35fcb-82a9-4fe3-8302-a237f8f9a895",
        "colab": {
          "base_uri": "https://localhost:8080/",
          "height": 111
        }
      },
      "source": [
        "# Print out slice (rows 2 through 3)\n",
        "smallDf[2:4]"
      ],
      "execution_count": 23,
      "outputs": [
        {
          "output_type": "execute_result",
          "data": {
            "text/html": [
              "<div>\n",
              "<style scoped>\n",
              "    .dataframe tbody tr th:only-of-type {\n",
              "        vertical-align: middle;\n",
              "    }\n",
              "\n",
              "    .dataframe tbody tr th {\n",
              "        vertical-align: top;\n",
              "    }\n",
              "\n",
              "    .dataframe thead th {\n",
              "        text-align: right;\n",
              "    }\n",
              "</style>\n",
              "<table border=\"1\" class=\"dataframe\">\n",
              "  <thead>\n",
              "    <tr style=\"text-align: right;\">\n",
              "      <th></th>\n",
              "      <th>month</th>\n",
              "      <th>avg_high</th>\n",
              "      <th>avg_low</th>\n",
              "      <th>record_high</th>\n",
              "      <th>record_low</th>\n",
              "      <th>avg_precipitation</th>\n",
              "    </tr>\n",
              "  </thead>\n",
              "  <tbody>\n",
              "    <tr>\n",
              "      <th>2</th>\n",
              "      <td>Mar</td>\n",
              "      <td>65</td>\n",
              "      <td>48</td>\n",
              "      <td>84</td>\n",
              "      <td>25</td>\n",
              "      <td>2.34</td>\n",
              "    </tr>\n",
              "    <tr>\n",
              "      <th>3</th>\n",
              "      <td>Apr</td>\n",
              "      <td>67</td>\n",
              "      <td>50</td>\n",
              "      <td>92</td>\n",
              "      <td>28</td>\n",
              "      <td>1.02</td>\n",
              "    </tr>\n",
              "  </tbody>\n",
              "</table>\n",
              "</div>"
            ],
            "text/plain": [
              "  month  avg_high  avg_low  record_high  record_low  avg_precipitation\n",
              "2   Mar        65       48           84          25               2.34\n",
              "3   Apr        67       50           92          28               1.02"
            ]
          },
          "metadata": {
            "tags": []
          },
          "execution_count": 23
        }
      ]
    },
    {
      "cell_type": "code",
      "metadata": {
        "id": "lpgIPRxp3PtL",
        "colab_type": "code",
        "outputId": "12b96a46-6686-421e-b47b-82fae8714c14",
        "colab": {
          "base_uri": "https://localhost:8080/",
          "height": 421
        }
      },
      "source": [
        "# Print out a slice with two columns, by name\n",
        "smallDf[['avg_low', 'avg_high']]"
      ],
      "execution_count": 24,
      "outputs": [
        {
          "output_type": "execute_result",
          "data": {
            "text/html": [
              "<div>\n",
              "<style scoped>\n",
              "    .dataframe tbody tr th:only-of-type {\n",
              "        vertical-align: middle;\n",
              "    }\n",
              "\n",
              "    .dataframe tbody tr th {\n",
              "        vertical-align: top;\n",
              "    }\n",
              "\n",
              "    .dataframe thead th {\n",
              "        text-align: right;\n",
              "    }\n",
              "</style>\n",
              "<table border=\"1\" class=\"dataframe\">\n",
              "  <thead>\n",
              "    <tr style=\"text-align: right;\">\n",
              "      <th></th>\n",
              "      <th>avg_low</th>\n",
              "      <th>avg_high</th>\n",
              "    </tr>\n",
              "  </thead>\n",
              "  <tbody>\n",
              "    <tr>\n",
              "      <th>0</th>\n",
              "      <td>42</td>\n",
              "      <td>58</td>\n",
              "    </tr>\n",
              "    <tr>\n",
              "      <th>1</th>\n",
              "      <td>45</td>\n",
              "      <td>61</td>\n",
              "    </tr>\n",
              "    <tr>\n",
              "      <th>2</th>\n",
              "      <td>48</td>\n",
              "      <td>65</td>\n",
              "    </tr>\n",
              "    <tr>\n",
              "      <th>3</th>\n",
              "      <td>50</td>\n",
              "      <td>67</td>\n",
              "    </tr>\n",
              "    <tr>\n",
              "      <th>4</th>\n",
              "      <td>53</td>\n",
              "      <td>71</td>\n",
              "    </tr>\n",
              "    <tr>\n",
              "      <th>5</th>\n",
              "      <td>56</td>\n",
              "      <td>75</td>\n",
              "    </tr>\n",
              "    <tr>\n",
              "      <th>6</th>\n",
              "      <td>58</td>\n",
              "      <td>77</td>\n",
              "    </tr>\n",
              "    <tr>\n",
              "      <th>7</th>\n",
              "      <td>59</td>\n",
              "      <td>77</td>\n",
              "    </tr>\n",
              "    <tr>\n",
              "      <th>8</th>\n",
              "      <td>57</td>\n",
              "      <td>77</td>\n",
              "    </tr>\n",
              "    <tr>\n",
              "      <th>9</th>\n",
              "      <td>54</td>\n",
              "      <td>73</td>\n",
              "    </tr>\n",
              "    <tr>\n",
              "      <th>10</th>\n",
              "      <td>48</td>\n",
              "      <td>64</td>\n",
              "    </tr>\n",
              "    <tr>\n",
              "      <th>11</th>\n",
              "      <td>42</td>\n",
              "      <td>58</td>\n",
              "    </tr>\n",
              "  </tbody>\n",
              "</table>\n",
              "</div>"
            ],
            "text/plain": [
              "    avg_low  avg_high\n",
              "0        42        58\n",
              "1        45        61\n",
              "2        48        65\n",
              "3        50        67\n",
              "4        53        71\n",
              "5        56        75\n",
              "6        58        77\n",
              "7        59        77\n",
              "8        57        77\n",
              "9        54        73\n",
              "10       48        64\n",
              "11       42        58"
            ]
          },
          "metadata": {
            "tags": []
          },
          "execution_count": 24
        }
      ]
    },
    {
      "cell_type": "code",
      "metadata": {
        "id": "-SpXEifq3alN",
        "colab_type": "code",
        "outputId": "0028dffe-6c5e-4a8b-eb6f-042fcf639f54",
        "colab": {
          "base_uri": "https://localhost:8080/",
          "height": 421
        }
      },
      "source": [
        "# Print out a slice with two columns, by name, implicit range\n",
        "smallDf.loc[:,['avg_low','avg_high']]"
      ],
      "execution_count": 25,
      "outputs": [
        {
          "output_type": "execute_result",
          "data": {
            "text/html": [
              "<div>\n",
              "<style scoped>\n",
              "    .dataframe tbody tr th:only-of-type {\n",
              "        vertical-align: middle;\n",
              "    }\n",
              "\n",
              "    .dataframe tbody tr th {\n",
              "        vertical-align: top;\n",
              "    }\n",
              "\n",
              "    .dataframe thead th {\n",
              "        text-align: right;\n",
              "    }\n",
              "</style>\n",
              "<table border=\"1\" class=\"dataframe\">\n",
              "  <thead>\n",
              "    <tr style=\"text-align: right;\">\n",
              "      <th></th>\n",
              "      <th>avg_low</th>\n",
              "      <th>avg_high</th>\n",
              "    </tr>\n",
              "  </thead>\n",
              "  <tbody>\n",
              "    <tr>\n",
              "      <th>0</th>\n",
              "      <td>42</td>\n",
              "      <td>58</td>\n",
              "    </tr>\n",
              "    <tr>\n",
              "      <th>1</th>\n",
              "      <td>45</td>\n",
              "      <td>61</td>\n",
              "    </tr>\n",
              "    <tr>\n",
              "      <th>2</th>\n",
              "      <td>48</td>\n",
              "      <td>65</td>\n",
              "    </tr>\n",
              "    <tr>\n",
              "      <th>3</th>\n",
              "      <td>50</td>\n",
              "      <td>67</td>\n",
              "    </tr>\n",
              "    <tr>\n",
              "      <th>4</th>\n",
              "      <td>53</td>\n",
              "      <td>71</td>\n",
              "    </tr>\n",
              "    <tr>\n",
              "      <th>5</th>\n",
              "      <td>56</td>\n",
              "      <td>75</td>\n",
              "    </tr>\n",
              "    <tr>\n",
              "      <th>6</th>\n",
              "      <td>58</td>\n",
              "      <td>77</td>\n",
              "    </tr>\n",
              "    <tr>\n",
              "      <th>7</th>\n",
              "      <td>59</td>\n",
              "      <td>77</td>\n",
              "    </tr>\n",
              "    <tr>\n",
              "      <th>8</th>\n",
              "      <td>57</td>\n",
              "      <td>77</td>\n",
              "    </tr>\n",
              "    <tr>\n",
              "      <th>9</th>\n",
              "      <td>54</td>\n",
              "      <td>73</td>\n",
              "    </tr>\n",
              "    <tr>\n",
              "      <th>10</th>\n",
              "      <td>48</td>\n",
              "      <td>64</td>\n",
              "    </tr>\n",
              "    <tr>\n",
              "      <th>11</th>\n",
              "      <td>42</td>\n",
              "      <td>58</td>\n",
              "    </tr>\n",
              "  </tbody>\n",
              "</table>\n",
              "</div>"
            ],
            "text/plain": [
              "    avg_low  avg_high\n",
              "0        42        58\n",
              "1        45        61\n",
              "2        48        65\n",
              "3        50        67\n",
              "4        53        71\n",
              "5        56        75\n",
              "6        58        77\n",
              "7        59        77\n",
              "8        57        77\n",
              "9        54        73\n",
              "10       48        64\n",
              "11       42        58"
            ]
          },
          "metadata": {
            "tags": []
          },
          "execution_count": 25
        }
      ]
    },
    {
      "cell_type": "code",
      "metadata": {
        "id": "0X8JvMeY3n_6",
        "colab_type": "code",
        "outputId": "518444ea-1d07-4ae2-c249-fbb825d23f91",
        "colab": {
          "base_uri": "https://localhost:8080/",
          "height": 68
        }
      },
      "source": [
        "# Print out a slice with two columns, by name, explicit range\n",
        "smallDf.loc[5,['avg_low','avg_high']]"
      ],
      "execution_count": 26,
      "outputs": [
        {
          "output_type": "execute_result",
          "data": {
            "text/plain": [
              "avg_low     56\n",
              "avg_high    75\n",
              "Name: 5, dtype: object"
            ]
          },
          "metadata": {
            "tags": []
          },
          "execution_count": 26
        }
      ]
    },
    {
      "cell_type": "code",
      "metadata": {
        "id": "YJ7MZmSP3zxF",
        "colab_type": "code",
        "outputId": "c7154409-74db-4266-fd8e-288fe0431920",
        "colab": {
          "base_uri": "https://localhost:8080/",
          "height": 111
        }
      },
      "source": [
        "# Print out a slice, by index, explicit range\n",
        "smallDf.iloc[3:5,[0,3,1,2]]"
      ],
      "execution_count": 27,
      "outputs": [
        {
          "output_type": "execute_result",
          "data": {
            "text/html": [
              "<div>\n",
              "<style scoped>\n",
              "    .dataframe tbody tr th:only-of-type {\n",
              "        vertical-align: middle;\n",
              "    }\n",
              "\n",
              "    .dataframe tbody tr th {\n",
              "        vertical-align: top;\n",
              "    }\n",
              "\n",
              "    .dataframe thead th {\n",
              "        text-align: right;\n",
              "    }\n",
              "</style>\n",
              "<table border=\"1\" class=\"dataframe\">\n",
              "  <thead>\n",
              "    <tr style=\"text-align: right;\">\n",
              "      <th></th>\n",
              "      <th>month</th>\n",
              "      <th>record_high</th>\n",
              "      <th>avg_high</th>\n",
              "      <th>avg_low</th>\n",
              "    </tr>\n",
              "  </thead>\n",
              "  <tbody>\n",
              "    <tr>\n",
              "      <th>3</th>\n",
              "      <td>Apr</td>\n",
              "      <td>92</td>\n",
              "      <td>67</td>\n",
              "      <td>50</td>\n",
              "    </tr>\n",
              "    <tr>\n",
              "      <th>4</th>\n",
              "      <td>May</td>\n",
              "      <td>98</td>\n",
              "      <td>71</td>\n",
              "      <td>53</td>\n",
              "    </tr>\n",
              "  </tbody>\n",
              "</table>\n",
              "</div>"
            ],
            "text/plain": [
              "  month  record_high  avg_high  avg_low\n",
              "3   Apr           92        67       50\n",
              "4   May           98        71       53"
            ]
          },
          "metadata": {
            "tags": []
          },
          "execution_count": 27
        }
      ]
    },
    {
      "cell_type": "code",
      "metadata": {
        "id": "MTkbZe004Efd",
        "colab_type": "code",
        "outputId": "4c3ae898-8f82-4cbd-8fc1-5cebc56b8bbf",
        "colab": {
          "base_uri": "https://localhost:8080/",
          "height": 238
        }
      },
      "source": [
        "# Filter a variable by value\n",
        "smallDf.avg_precipitation > 1.0"
      ],
      "execution_count": 28,
      "outputs": [
        {
          "output_type": "execute_result",
          "data": {
            "text/plain": [
              "0      True\n",
              "1      True\n",
              "2      True\n",
              "3      True\n",
              "4     False\n",
              "5     False\n",
              "6     False\n",
              "7     False\n",
              "8     False\n",
              "9     False\n",
              "10     True\n",
              "11     True\n",
              "Name: avg_precipitation, dtype: bool"
            ]
          },
          "metadata": {
            "tags": []
          },
          "execution_count": 28
        }
      ]
    },
    {
      "cell_type": "code",
      "metadata": {
        "id": "qq5LCiG44LeU",
        "colab_type": "code",
        "outputId": "c2013f2c-04ea-44a9-8681-eb932f2926ed",
        "colab": {
          "base_uri": "https://localhost:8080/",
          "height": 142
        }
      },
      "source": [
        "# Filter observations by month name\n",
        "smallDf[smallDf['month'].isin(['Jun', 'Jul', 'Aug'])]"
      ],
      "execution_count": 29,
      "outputs": [
        {
          "output_type": "execute_result",
          "data": {
            "text/html": [
              "<div>\n",
              "<style scoped>\n",
              "    .dataframe tbody tr th:only-of-type {\n",
              "        vertical-align: middle;\n",
              "    }\n",
              "\n",
              "    .dataframe tbody tr th {\n",
              "        vertical-align: top;\n",
              "    }\n",
              "\n",
              "    .dataframe thead th {\n",
              "        text-align: right;\n",
              "    }\n",
              "</style>\n",
              "<table border=\"1\" class=\"dataframe\">\n",
              "  <thead>\n",
              "    <tr style=\"text-align: right;\">\n",
              "      <th></th>\n",
              "      <th>month</th>\n",
              "      <th>avg_high</th>\n",
              "      <th>avg_low</th>\n",
              "      <th>record_high</th>\n",
              "      <th>record_low</th>\n",
              "      <th>avg_precipitation</th>\n",
              "    </tr>\n",
              "  </thead>\n",
              "  <tbody>\n",
              "    <tr>\n",
              "      <th>5</th>\n",
              "      <td>Jun</td>\n",
              "      <td>75</td>\n",
              "      <td>56</td>\n",
              "      <td>107</td>\n",
              "      <td>41</td>\n",
              "      <td>0.11</td>\n",
              "    </tr>\n",
              "    <tr>\n",
              "      <th>6</th>\n",
              "      <td>Jul</td>\n",
              "      <td>77</td>\n",
              "      <td>58</td>\n",
              "      <td>105</td>\n",
              "      <td>44</td>\n",
              "      <td>0.00</td>\n",
              "    </tr>\n",
              "    <tr>\n",
              "      <th>7</th>\n",
              "      <td>Aug</td>\n",
              "      <td>77</td>\n",
              "      <td>59</td>\n",
              "      <td>102</td>\n",
              "      <td>42</td>\n",
              "      <td>0.03</td>\n",
              "    </tr>\n",
              "  </tbody>\n",
              "</table>\n",
              "</div>"
            ],
            "text/plain": [
              "  month  avg_high  avg_low  record_high  record_low  avg_precipitation\n",
              "5   Jun        75       56          107          41               0.11\n",
              "6   Jul        77       58          105          44               0.00\n",
              "7   Aug        77       59          102          42               0.03"
            ]
          },
          "metadata": {
            "tags": []
          },
          "execution_count": 29
        }
      ]
    },
    {
      "cell_type": "code",
      "metadata": {
        "id": "p4NeBBcv4e5F",
        "colab_type": "code",
        "outputId": "abd5843b-0fc5-4769-8d18-71d331876a2e",
        "colab": {
          "base_uri": "https://localhost:8080/",
          "height": 111
        }
      },
      "source": [
        "# Print observations by index\n",
        "smallDf.iloc[9:11]"
      ],
      "execution_count": 30,
      "outputs": [
        {
          "output_type": "execute_result",
          "data": {
            "text/html": [
              "<div>\n",
              "<style scoped>\n",
              "    .dataframe tbody tr th:only-of-type {\n",
              "        vertical-align: middle;\n",
              "    }\n",
              "\n",
              "    .dataframe tbody tr th {\n",
              "        vertical-align: top;\n",
              "    }\n",
              "\n",
              "    .dataframe thead th {\n",
              "        text-align: right;\n",
              "    }\n",
              "</style>\n",
              "<table border=\"1\" class=\"dataframe\">\n",
              "  <thead>\n",
              "    <tr style=\"text-align: right;\">\n",
              "      <th></th>\n",
              "      <th>month</th>\n",
              "      <th>avg_high</th>\n",
              "      <th>avg_low</th>\n",
              "      <th>record_high</th>\n",
              "      <th>record_low</th>\n",
              "      <th>avg_precipitation</th>\n",
              "    </tr>\n",
              "  </thead>\n",
              "  <tbody>\n",
              "    <tr>\n",
              "      <th>9</th>\n",
              "      <td>Oct</td>\n",
              "      <td>73</td>\n",
              "      <td>54</td>\n",
              "      <td>96</td>\n",
              "      <td>34</td>\n",
              "      <td>0.81</td>\n",
              "    </tr>\n",
              "    <tr>\n",
              "      <th>10</th>\n",
              "      <td>Nov</td>\n",
              "      <td>64</td>\n",
              "      <td>48</td>\n",
              "      <td>84</td>\n",
              "      <td>30</td>\n",
              "      <td>1.70</td>\n",
              "    </tr>\n",
              "  </tbody>\n",
              "</table>\n",
              "</div>"
            ],
            "text/plain": [
              "   month  avg_high  avg_low  record_high  record_low  avg_precipitation\n",
              "9    Oct        73       54           96          34               0.81\n",
              "10   Nov        64       48           84          30               1.70"
            ]
          },
          "metadata": {
            "tags": []
          },
          "execution_count": 30
        }
      ]
    },
    {
      "cell_type": "code",
      "metadata": {
        "id": "dIHYXfeh4oIP",
        "colab_type": "code",
        "outputId": "34c8656e-aaba-4664-fd9f-cb05160077e8",
        "colab": {
          "base_uri": "https://localhost:8080/",
          "height": 111
        }
      },
      "source": [
        "# Set one data point to NaN (not a number)\n",
        "smallDf.loc[9, ['avg_precipitation']] = np.nan\n",
        "smallDf.iloc[9:11]"
      ],
      "execution_count": 31,
      "outputs": [
        {
          "output_type": "execute_result",
          "data": {
            "text/html": [
              "<div>\n",
              "<style scoped>\n",
              "    .dataframe tbody tr th:only-of-type {\n",
              "        vertical-align: middle;\n",
              "    }\n",
              "\n",
              "    .dataframe tbody tr th {\n",
              "        vertical-align: top;\n",
              "    }\n",
              "\n",
              "    .dataframe thead th {\n",
              "        text-align: right;\n",
              "    }\n",
              "</style>\n",
              "<table border=\"1\" class=\"dataframe\">\n",
              "  <thead>\n",
              "    <tr style=\"text-align: right;\">\n",
              "      <th></th>\n",
              "      <th>month</th>\n",
              "      <th>avg_high</th>\n",
              "      <th>avg_low</th>\n",
              "      <th>record_high</th>\n",
              "      <th>record_low</th>\n",
              "      <th>avg_precipitation</th>\n",
              "    </tr>\n",
              "  </thead>\n",
              "  <tbody>\n",
              "    <tr>\n",
              "      <th>9</th>\n",
              "      <td>Oct</td>\n",
              "      <td>73</td>\n",
              "      <td>54</td>\n",
              "      <td>96</td>\n",
              "      <td>34</td>\n",
              "      <td>NaN</td>\n",
              "    </tr>\n",
              "    <tr>\n",
              "      <th>10</th>\n",
              "      <td>Nov</td>\n",
              "      <td>64</td>\n",
              "      <td>48</td>\n",
              "      <td>84</td>\n",
              "      <td>30</td>\n",
              "      <td>1.7</td>\n",
              "    </tr>\n",
              "  </tbody>\n",
              "</table>\n",
              "</div>"
            ],
            "text/plain": [
              "   month  avg_high  avg_low  record_high  record_low  avg_precipitation\n",
              "9    Oct        73       54           96          34                NaN\n",
              "10   Nov        64       48           84          30                1.7"
            ]
          },
          "metadata": {
            "tags": []
          },
          "execution_count": 31
        }
      ]
    },
    {
      "cell_type": "code",
      "metadata": {
        "id": "9jgJwXoZ40BD",
        "colab_type": "code",
        "outputId": "f2893157-8cf1-414f-af0c-a5b24a1587f5",
        "colab": {
          "base_uri": "https://localhost:8080/",
          "height": 204
        }
      },
      "source": [
        "# Set avg_low to '5' for all observations\n",
        "smallDf.loc[:, ['avg_low']] = np.array([5] * len(smallDf))\n",
        "smallDf.head()"
      ],
      "execution_count": 32,
      "outputs": [
        {
          "output_type": "execute_result",
          "data": {
            "text/html": [
              "<div>\n",
              "<style scoped>\n",
              "    .dataframe tbody tr th:only-of-type {\n",
              "        vertical-align: middle;\n",
              "    }\n",
              "\n",
              "    .dataframe tbody tr th {\n",
              "        vertical-align: top;\n",
              "    }\n",
              "\n",
              "    .dataframe thead th {\n",
              "        text-align: right;\n",
              "    }\n",
              "</style>\n",
              "<table border=\"1\" class=\"dataframe\">\n",
              "  <thead>\n",
              "    <tr style=\"text-align: right;\">\n",
              "      <th></th>\n",
              "      <th>month</th>\n",
              "      <th>avg_high</th>\n",
              "      <th>avg_low</th>\n",
              "      <th>record_high</th>\n",
              "      <th>record_low</th>\n",
              "      <th>avg_precipitation</th>\n",
              "    </tr>\n",
              "  </thead>\n",
              "  <tbody>\n",
              "    <tr>\n",
              "      <th>0</th>\n",
              "      <td>Jan</td>\n",
              "      <td>58</td>\n",
              "      <td>5</td>\n",
              "      <td>74</td>\n",
              "      <td>22</td>\n",
              "      <td>2.95</td>\n",
              "    </tr>\n",
              "    <tr>\n",
              "      <th>1</th>\n",
              "      <td>Feb</td>\n",
              "      <td>61</td>\n",
              "      <td>5</td>\n",
              "      <td>78</td>\n",
              "      <td>26</td>\n",
              "      <td>3.02</td>\n",
              "    </tr>\n",
              "    <tr>\n",
              "      <th>2</th>\n",
              "      <td>Mar</td>\n",
              "      <td>65</td>\n",
              "      <td>5</td>\n",
              "      <td>84</td>\n",
              "      <td>25</td>\n",
              "      <td>2.34</td>\n",
              "    </tr>\n",
              "    <tr>\n",
              "      <th>3</th>\n",
              "      <td>Apr</td>\n",
              "      <td>67</td>\n",
              "      <td>5</td>\n",
              "      <td>92</td>\n",
              "      <td>28</td>\n",
              "      <td>1.02</td>\n",
              "    </tr>\n",
              "    <tr>\n",
              "      <th>4</th>\n",
              "      <td>May</td>\n",
              "      <td>71</td>\n",
              "      <td>5</td>\n",
              "      <td>98</td>\n",
              "      <td>35</td>\n",
              "      <td>0.48</td>\n",
              "    </tr>\n",
              "  </tbody>\n",
              "</table>\n",
              "</div>"
            ],
            "text/plain": [
              "  month  avg_high  avg_low  record_high  record_low  avg_precipitation\n",
              "0   Jan        58        5           74          22               2.95\n",
              "1   Feb        61        5           78          26               3.02\n",
              "2   Mar        65        5           84          25               2.34\n",
              "3   Apr        67        5           92          28               1.02\n",
              "4   May        71        5           98          35               0.48"
            ]
          },
          "metadata": {
            "tags": []
          },
          "execution_count": 32
        }
      ]
    },
    {
      "cell_type": "code",
      "metadata": {
        "id": "2K4Rs3Vf5AfV",
        "colab_type": "code",
        "outputId": "5664f39a-6533-49e2-e1f4-76f77c73e896",
        "colab": {
          "base_uri": "https://localhost:8080/",
          "height": 204
        }
      },
      "source": [
        "# Add a variable\n",
        "smallDf['avg_day'] = (smallDf.avg_low + smallDf.avg_high) / 2\n",
        "smallDf.head()"
      ],
      "execution_count": 33,
      "outputs": [
        {
          "output_type": "execute_result",
          "data": {
            "text/html": [
              "<div>\n",
              "<style scoped>\n",
              "    .dataframe tbody tr th:only-of-type {\n",
              "        vertical-align: middle;\n",
              "    }\n",
              "\n",
              "    .dataframe tbody tr th {\n",
              "        vertical-align: top;\n",
              "    }\n",
              "\n",
              "    .dataframe thead th {\n",
              "        text-align: right;\n",
              "    }\n",
              "</style>\n",
              "<table border=\"1\" class=\"dataframe\">\n",
              "  <thead>\n",
              "    <tr style=\"text-align: right;\">\n",
              "      <th></th>\n",
              "      <th>month</th>\n",
              "      <th>avg_high</th>\n",
              "      <th>avg_low</th>\n",
              "      <th>record_high</th>\n",
              "      <th>record_low</th>\n",
              "      <th>avg_precipitation</th>\n",
              "      <th>avg_day</th>\n",
              "    </tr>\n",
              "  </thead>\n",
              "  <tbody>\n",
              "    <tr>\n",
              "      <th>0</th>\n",
              "      <td>Jan</td>\n",
              "      <td>58</td>\n",
              "      <td>5</td>\n",
              "      <td>74</td>\n",
              "      <td>22</td>\n",
              "      <td>2.95</td>\n",
              "      <td>31.5</td>\n",
              "    </tr>\n",
              "    <tr>\n",
              "      <th>1</th>\n",
              "      <td>Feb</td>\n",
              "      <td>61</td>\n",
              "      <td>5</td>\n",
              "      <td>78</td>\n",
              "      <td>26</td>\n",
              "      <td>3.02</td>\n",
              "      <td>33.0</td>\n",
              "    </tr>\n",
              "    <tr>\n",
              "      <th>2</th>\n",
              "      <td>Mar</td>\n",
              "      <td>65</td>\n",
              "      <td>5</td>\n",
              "      <td>84</td>\n",
              "      <td>25</td>\n",
              "      <td>2.34</td>\n",
              "      <td>35.0</td>\n",
              "    </tr>\n",
              "    <tr>\n",
              "      <th>3</th>\n",
              "      <td>Apr</td>\n",
              "      <td>67</td>\n",
              "      <td>5</td>\n",
              "      <td>92</td>\n",
              "      <td>28</td>\n",
              "      <td>1.02</td>\n",
              "      <td>36.0</td>\n",
              "    </tr>\n",
              "    <tr>\n",
              "      <th>4</th>\n",
              "      <td>May</td>\n",
              "      <td>71</td>\n",
              "      <td>5</td>\n",
              "      <td>98</td>\n",
              "      <td>35</td>\n",
              "      <td>0.48</td>\n",
              "      <td>38.0</td>\n",
              "    </tr>\n",
              "  </tbody>\n",
              "</table>\n",
              "</div>"
            ],
            "text/plain": [
              "  month  avg_high  avg_low  record_high  record_low  avg_precipitation  avg_day\n",
              "0   Jan        58        5           74          22               2.95     31.5\n",
              "1   Feb        61        5           78          26               3.02     33.0\n",
              "2   Mar        65        5           84          25               2.34     35.0\n",
              "3   Apr        67        5           92          28               1.02     36.0\n",
              "4   May        71        5           98          35               0.48     38.0"
            ]
          },
          "metadata": {
            "tags": []
          },
          "execution_count": 33
        }
      ]
    },
    {
      "cell_type": "code",
      "metadata": {
        "id": "TnBKMYgO5nZ5",
        "colab_type": "code",
        "outputId": "3fad145a-a763-43a7-8285-915482e69a59",
        "colab": {
          "base_uri": "https://localhost:8080/",
          "height": 204
        }
      },
      "source": [
        "# Rename a variable\n",
        "smallDf.rename(columns = {'avg_precipitation':'avg_rain'}, inplace=True)\n",
        "smallDf.head()\n",
        "\n",
        "# Alternately\n",
        "#  smallDf = smallDf.rename(columns = {'avg_precipitation':'avg_rain'})\n",
        "#  The \"inplace=True\" allows you to rename \"in place\" without having to \n",
        "#  re-asign the value back to the variable"
      ],
      "execution_count": 34,
      "outputs": [
        {
          "output_type": "execute_result",
          "data": {
            "text/html": [
              "<div>\n",
              "<style scoped>\n",
              "    .dataframe tbody tr th:only-of-type {\n",
              "        vertical-align: middle;\n",
              "    }\n",
              "\n",
              "    .dataframe tbody tr th {\n",
              "        vertical-align: top;\n",
              "    }\n",
              "\n",
              "    .dataframe thead th {\n",
              "        text-align: right;\n",
              "    }\n",
              "</style>\n",
              "<table border=\"1\" class=\"dataframe\">\n",
              "  <thead>\n",
              "    <tr style=\"text-align: right;\">\n",
              "      <th></th>\n",
              "      <th>month</th>\n",
              "      <th>avg_high</th>\n",
              "      <th>avg_low</th>\n",
              "      <th>record_high</th>\n",
              "      <th>record_low</th>\n",
              "      <th>avg_rain</th>\n",
              "      <th>avg_day</th>\n",
              "    </tr>\n",
              "  </thead>\n",
              "  <tbody>\n",
              "    <tr>\n",
              "      <th>0</th>\n",
              "      <td>Jan</td>\n",
              "      <td>58</td>\n",
              "      <td>5</td>\n",
              "      <td>74</td>\n",
              "      <td>22</td>\n",
              "      <td>2.95</td>\n",
              "      <td>31.5</td>\n",
              "    </tr>\n",
              "    <tr>\n",
              "      <th>1</th>\n",
              "      <td>Feb</td>\n",
              "      <td>61</td>\n",
              "      <td>5</td>\n",
              "      <td>78</td>\n",
              "      <td>26</td>\n",
              "      <td>3.02</td>\n",
              "      <td>33.0</td>\n",
              "    </tr>\n",
              "    <tr>\n",
              "      <th>2</th>\n",
              "      <td>Mar</td>\n",
              "      <td>65</td>\n",
              "      <td>5</td>\n",
              "      <td>84</td>\n",
              "      <td>25</td>\n",
              "      <td>2.34</td>\n",
              "      <td>35.0</td>\n",
              "    </tr>\n",
              "    <tr>\n",
              "      <th>3</th>\n",
              "      <td>Apr</td>\n",
              "      <td>67</td>\n",
              "      <td>5</td>\n",
              "      <td>92</td>\n",
              "      <td>28</td>\n",
              "      <td>1.02</td>\n",
              "      <td>36.0</td>\n",
              "    </tr>\n",
              "    <tr>\n",
              "      <th>4</th>\n",
              "      <td>May</td>\n",
              "      <td>71</td>\n",
              "      <td>5</td>\n",
              "      <td>98</td>\n",
              "      <td>35</td>\n",
              "      <td>0.48</td>\n",
              "      <td>38.0</td>\n",
              "    </tr>\n",
              "  </tbody>\n",
              "</table>\n",
              "</div>"
            ],
            "text/plain": [
              "  month  avg_high  avg_low  record_high  record_low  avg_rain  avg_day\n",
              "0   Jan        58        5           74          22      2.95     31.5\n",
              "1   Feb        61        5           78          26      3.02     33.0\n",
              "2   Mar        65        5           84          25      2.34     35.0\n",
              "3   Apr        67        5           92          28      1.02     36.0\n",
              "4   May        71        5           98          35      0.48     38.0"
            ]
          },
          "metadata": {
            "tags": []
          },
          "execution_count": 34
        }
      ]
    },
    {
      "cell_type": "code",
      "metadata": {
        "id": "hDoeyh5r6AsL",
        "colab_type": "code",
        "outputId": "2a473a43-6f4d-4b6f-b823-0c6dabb970ae",
        "colab": {
          "base_uri": "https://localhost:8080/",
          "height": 204
        }
      },
      "source": [
        "# Renam variables en masse\n",
        "smallDf.columns = ['month', 'av_hi', 'av_lo', 'rec_hi', 'rec_lo', 'av_rain', 'day']\n",
        "smallDf.head()"
      ],
      "execution_count": 35,
      "outputs": [
        {
          "output_type": "execute_result",
          "data": {
            "text/html": [
              "<div>\n",
              "<style scoped>\n",
              "    .dataframe tbody tr th:only-of-type {\n",
              "        vertical-align: middle;\n",
              "    }\n",
              "\n",
              "    .dataframe tbody tr th {\n",
              "        vertical-align: top;\n",
              "    }\n",
              "\n",
              "    .dataframe thead th {\n",
              "        text-align: right;\n",
              "    }\n",
              "</style>\n",
              "<table border=\"1\" class=\"dataframe\">\n",
              "  <thead>\n",
              "    <tr style=\"text-align: right;\">\n",
              "      <th></th>\n",
              "      <th>month</th>\n",
              "      <th>av_hi</th>\n",
              "      <th>av_lo</th>\n",
              "      <th>rec_hi</th>\n",
              "      <th>rec_lo</th>\n",
              "      <th>av_rain</th>\n",
              "      <th>day</th>\n",
              "    </tr>\n",
              "  </thead>\n",
              "  <tbody>\n",
              "    <tr>\n",
              "      <th>0</th>\n",
              "      <td>Jan</td>\n",
              "      <td>58</td>\n",
              "      <td>5</td>\n",
              "      <td>74</td>\n",
              "      <td>22</td>\n",
              "      <td>2.95</td>\n",
              "      <td>31.5</td>\n",
              "    </tr>\n",
              "    <tr>\n",
              "      <th>1</th>\n",
              "      <td>Feb</td>\n",
              "      <td>61</td>\n",
              "      <td>5</td>\n",
              "      <td>78</td>\n",
              "      <td>26</td>\n",
              "      <td>3.02</td>\n",
              "      <td>33.0</td>\n",
              "    </tr>\n",
              "    <tr>\n",
              "      <th>2</th>\n",
              "      <td>Mar</td>\n",
              "      <td>65</td>\n",
              "      <td>5</td>\n",
              "      <td>84</td>\n",
              "      <td>25</td>\n",
              "      <td>2.34</td>\n",
              "      <td>35.0</td>\n",
              "    </tr>\n",
              "    <tr>\n",
              "      <th>3</th>\n",
              "      <td>Apr</td>\n",
              "      <td>67</td>\n",
              "      <td>5</td>\n",
              "      <td>92</td>\n",
              "      <td>28</td>\n",
              "      <td>1.02</td>\n",
              "      <td>36.0</td>\n",
              "    </tr>\n",
              "    <tr>\n",
              "      <th>4</th>\n",
              "      <td>May</td>\n",
              "      <td>71</td>\n",
              "      <td>5</td>\n",
              "      <td>98</td>\n",
              "      <td>35</td>\n",
              "      <td>0.48</td>\n",
              "      <td>38.0</td>\n",
              "    </tr>\n",
              "  </tbody>\n",
              "</table>\n",
              "</div>"
            ],
            "text/plain": [
              "  month  av_hi  av_lo  rec_hi  rec_lo  av_rain   day\n",
              "0   Jan     58      5      74      22     2.95  31.5\n",
              "1   Feb     61      5      78      26     3.02  33.0\n",
              "2   Mar     65      5      84      25     2.34  35.0\n",
              "3   Apr     67      5      92      28     1.02  36.0\n",
              "4   May     71      5      98      35     0.48  38.0"
            ]
          },
          "metadata": {
            "tags": []
          },
          "execution_count": 35
        }
      ]
    },
    {
      "cell_type": "code",
      "metadata": {
        "id": "4A_URnr_6GhL",
        "colab_type": "code",
        "outputId": "3c943d94-267a-465c-bdc4-08d1a8cee704",
        "colab": {
          "base_uri": "https://localhost:8080/",
          "height": 221
        }
      },
      "source": [
        "# Iterate through the table in a loop\n",
        "for index, row in smallDf.iterrows():\n",
        "  print(index, row['month'], row['av_hi'])"
      ],
      "execution_count": 37,
      "outputs": [
        {
          "output_type": "stream",
          "text": [
            "0 Jan 58\n",
            "1 Feb 61\n",
            "2 Mar 65\n",
            "3 Apr 67\n",
            "4 May 71\n",
            "5 Jun 75\n",
            "6 Jul 77\n",
            "7 Aug 77\n",
            "8 Sep 77\n",
            "9 Oct 73\n",
            "10 Nov 64\n",
            "11 Dec 58\n"
          ],
          "name": "stdout"
        }
      ]
    },
    {
      "cell_type": "code",
      "metadata": {
        "id": "SPbHgjlbb2Bt",
        "colab_type": "code",
        "colab": {
          "base_uri": "https://localhost:8080/",
          "height": 296
        },
        "outputId": "ab429ae3-25c4-4d24-ce54-2ba4ec574ff7"
      },
      "source": [
        "smallDf.plot(x = \"month\", y = \"av_rain\")"
      ],
      "execution_count": 50,
      "outputs": [
        {
          "output_type": "execute_result",
          "data": {
            "text/plain": [
              "<matplotlib.axes._subplots.AxesSubplot at 0x7fafa1e14cf8>"
            ]
          },
          "metadata": {
            "tags": []
          },
          "execution_count": 50
        },
        {
          "output_type": "display_data",
          "data": {
            "image/png": "[encoded data removed]",
            "text/plain": [
              "<Figure size 432x288 with 1 Axes>"
            ]
          },
          "metadata": {
            "tags": []
          }
        }
      ]
    },
    {
      "cell_type": "code",
      "metadata": {
        "id": "vGjuYbjVdDp2",
        "colab_type": "code",
        "colab": {}
      },
      "source": [
        ""
      ],
      "execution_count": 0,
      "outputs": []
    },
    {
      "cell_type": "code",
      "metadata": {
        "id": "FOV85lbXdAxb",
        "colab_type": "code",
        "colab": {}
      },
      "source": [
        ""
      ],
      "execution_count": 0,
      "outputs": []
    },
    {
      "cell_type": "code",
      "metadata": {
        "id": "dcl1-spbc9nv",
        "colab_type": "code",
        "colab": {}
      },
      "source": [
        ""
      ],
      "execution_count": 0,
      "outputs": []
    },
    {
      "cell_type": "code",
      "metadata": {
        "id": "602hbUurcz9z",
        "colab_type": "code",
        "colab": {}
      },
      "source": [
        ""
      ],
      "execution_count": 0,
      "outputs": []
    },
    {
      "cell_type": "code",
      "metadata": {
        "id": "pEpkF2UVcGAn",
        "colab_type": "code",
        "colab": {}
      },
      "source": [
        ""
      ],
      "execution_count": 0,
      "outputs": []
    },
    {
      "cell_type": "code",
      "metadata": {
        "id": "ejK6L84Db9jh",
        "colab_type": "code",
        "colab": {}
      },
      "source": [
        ""
      ],
      "execution_count": 0,
      "outputs": []
    }
  ]
}